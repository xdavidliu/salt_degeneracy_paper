{
 "cells": [
  {
   "cell_type": "code",
   "execution_count": 1,
   "metadata": {
    "collapsed": false
   },
   "outputs": [
    {
     "name": "stderr",
     "output_type": "stream",
     "text": [
      "/Users/davidliu/.julia/v0.4/Conda/deps/usr/lib/python2.7/site-packages/matplotlib/font_manager.py:273: UserWarning: Matplotlib is building the font cache using fc-list. This may take a moment.\n",
      "  warnings.warn('Matplotlib is building the font cache using fc-list. This may take a moment.')\n"
     ]
    },
    {
     "data": {
      "text/plain": [
       "passive_solve! (generic function with 1 method)"
      ]
     },
     "execution_count": 1,
     "metadata": {},
     "output_type": "execute_result"
    }
   ],
   "source": [
    "using PyPlot\n",
    "include(\"saltsolver.jl\")\n",
    "include(\"passive.jl\")"
   ]
  },
  {
   "cell_type": "code",
   "execution_count": 44,
   "metadata": {
    "collapsed": false
   },
   "outputs": [
    {
     "data": {
      "text/plain": [
       "([-1.0,3.0],\n",
       "2x2 Array{Float64,2}:\n",
       " -0.707107  0.707107\n",
       "  0.707107  0.707107)"
      ]
     },
     "execution_count": 44,
     "metadata": {},
     "output_type": "execute_result"
    }
   ],
   "source": [
    "eig([1 2; 2 1])"
   ]
  },
  {
   "cell_type": "code",
   "execution_count": 8,
   "metadata": {
    "collapsed": true
   },
   "outputs": [],
   "source": [
    "nsym = 8\n",
    "ℓ = 2\n",
    "Lcav = 1.0\n",
    "\n",
    "# uniform\n",
    "wantcnv = true\n",
    "σ = 0.1\n",
    "ɛrpiece = [1.0]\n",
    "ɛipiece = [σ]\n",
    "Fpiece = [1.0]\n",
    "\n",
    "ɛr = cn_profile(ɛrpiece, nsym)\n",
    "ɛi = cn_profile(ɛipiece, nsym)\n",
    "ɛ = ɛr + im*ɛi\n",
    "F = cn_profile(Fpiece, nsym)\n",
    "\n",
    "ismirror(v) = (v == ring_flip(v))\n",
    "iscnv = (ismirror(ɛ) && ismirror(F))\n",
    "assert(wantcnv == iscnv)\n",
    "\n",
    "N = length(F)\n",
    "assert(N == nsym)\n",
    "h = Lcav / N\n",
    "laplacian!(J) = periodic!(J, h)\n",
    "Eguess, ωguess = ring_eigenpair(N, ℓ, h)\n",
    "\n",
    "# purposely make it far from gain center to \n",
    "# see low-Q effects\n",
    "ωa = round(ωguess) + 1\n",
    "γ⟂ = 0.7\n",
    "γpar = 0.1\n",
    "las = Laser(ɛ, F, ωa, γ⟂);"
   ]
  },
  {
   "cell_type": "code",
   "execution_count": 3,
   "metadata": {
    "collapsed": false
   },
   "outputs": [],
   "source": [
    "# use either this panel or the one above; not both\n",
    "nsym = 7\n",
    "ℓ = 2\n",
    "Lcav = 1.0\n",
    "\n",
    "wantcnv = true\n",
    "if wantcnv\n",
    "    ɛrpiece = [1.0, 1.1, 1.1]\n",
    "    ɛipiece = [0.3, 0.25, 0.25]\n",
    "    Fpiece = [1.1, 0.9, 0.9]\n",
    "else \n",
    "    ɛrpiece = [1.0, 1.2, 1.1]\n",
    "    ɛipiece = [0.3, 0.25, 0.32]\n",
    "    Fpiece = [1.1, 0.9, 0.95]\n",
    "end\n",
    "    \n",
    "ɛr = cn_profile(ɛrpiece, nsym)\n",
    "ɛi = cn_profile(ɛipiece, nsym)\n",
    "ɛ = ɛr + im*ɛi\n",
    "F = cn_profile(Fpiece, nsym)\n",
    "\n",
    "ismirror(v) = (v == ring_flip(v))\n",
    "iscnv = (ismirror(ɛ) && ismirror(F))\n",
    "assert(wantcnv == iscnv)\n",
    "\n",
    "N = length(F)\n",
    "h = Lcav / N\n",
    "laplacian!(J) = periodic!(J, h)\n",
    "Eguess, ωguess = ring_eigenpair(N, ℓ, h)\n",
    "\n",
    "# purposely make it far from gain center to \n",
    "# see low-Q effects\n",
    "ωa = round(ωguess) + 1\n",
    "γ⟂ = 0.7\n",
    "γpar = 0.1\n",
    "las = Laser(ɛ, F, ωa, γ⟂);"
   ]
  },
  {
   "cell_type": "code",
   "execution_count": 9,
   "metadata": {
    "collapsed": false
   },
   "outputs": [
    {
     "name": "stdout",
     "output_type": "stream",
     "text": [
      "threshold search slightly breaks pure chirality\n",
      "use projection operator to get it back\n",
      "chiral-projected mode should automatically be solution\n",
      "|f| = 5.290873456620579e-13\n",
      "ℓ eigenvalue and residual:\n",
      "(2.0,1.2412670766475696e-16)\n",
      "Cnv, so flipped solved immediate\n",
      "|f| = 5.271275446459064e-13\n",
      "ℓ eigenvalue and residual:\n",
      "(-2.0,1.2412670766331194e-16)\n",
      "\n",
      "check that degenerate and at threshold\n",
      "ω₊ - ω₋ = 0.0\n",
      "|c₊²|+|c₋²| = 7.208097639520836e-11\n"
     ]
    }
   ],
   "source": [
    "Dguess = 1.2 * mean(ɛipiece)\n",
    "md = Mode(copy(Eguess), ωguess, 0.0)\n",
    "Dt = threshold!(laplacian!, md, las, (Dguess, Dguess*1.05))\n",
    "\n",
    "println(\"threshold search slightly breaks pure chirality\")\n",
    "println(\"use projection operator to get it back\")\n",
    "md = Mode(project_chiral(md.E, nsym, ℓ), md.ω, md.c²)\n",
    "println(\"chiral-projected mode should automatically be solution\")\n",
    "solve!(laplacian!, md, las, Dt, isprint=true)\n",
    "println(\"ℓ eigenvalue and residual:\\n\", get_ell(md.E, nsym))\n",
    "\n",
    "fmd = mode_flip(md)\n",
    "if iscnv\n",
    "    println(\"Cnv, so flipped solved immediate\")    \n",
    "else\n",
    "    println(\"Cn only, so flipped solve not immediate\")\n",
    "end\n",
    "solve!(laplacian!, fmd, las, Dt, isprint=true)\n",
    "if !iscnv\n",
    "    fmd = Mode(project_chiral(fmd.E, nsym, -ℓ), fmd.ω, fmd.c²)\n",
    "    println(\"reprojecting fmd to fix slightly broken chiral symmetry\")\n",
    "    println(\"reprojected fmd should immediately solve Newton\")\n",
    "    solve!(laplacian!, fmd, las, Dt, isprint=true)\n",
    "end\n",
    "println(\"ℓ eigenvalue and residual:\\n\", get_ell(fmd.E, nsym))\n",
    "\n",
    "println(\"\\ncheck that degenerate and at threshold\")\n",
    "println(\"ω₊ - ω₋ = \", md.ω - fmd.ω)\n",
    "println(\"|c₊²|+|c₋²| = \", abs(md.c²) + abs(fmd.c²))\n",
    "Es = (md.E, fmd.E)\n",
    "ωt = md.ω\n",
    "H, I, J, K, GD = overlap_integrals(Es, ωt, Dt, las, nsym, ℓ, Lcav);"
   ]
  },
  {
   "cell_type": "code",
   "execution_count": 10,
   "metadata": {
    "collapsed": false
   },
   "outputs": [
    {
     "name": "stdout",
     "output_type": "stream",
     "text": [
      "|f| = 1.5617508689844456e-9\n",
      "expected a² = 1.0\n",
      "actual   a² = 1.0\n",
      "expected ω1 = -0.0\n",
      "actual   ω1 = 0.0\n",
      "\n",
      " theoretical stability eigenvalues:\n",
      "0.0\n",
      "0.0 + 0.0im\n",
      "-0.838561714205012 - 0.0im\n",
      "-0.838561714205012\n",
      "\n",
      "numerical stability eigenvalues\n",
      "1.5129156449291135e-7 + 0.0im\n",
      "1.5140652111576358e-7 + 0.0im\n",
      "-0.8392642818526799 + 0.0im\n",
      "-0.8392642819890024 + 0.0im\n"
     ]
    }
   ],
   "source": [
    "# CIRCULATING MODES\n",
    "ω1s = [0.0, 0.0]\n",
    "a²ths = [0.0, 0.0]\n",
    "for m in (1, 2)\n",
    "    ω1s[m] = -imag(GD / I[m]) / imag(H / I[m])\n",
    "    a²ths[m] = real((ω1s[m]*H+GD) / I[m])\n",
    "end\n",
    "\n",
    "m = 2\n",
    "d = 0.0001\n",
    "Dlasing = Dt*(1+d)\n",
    "a² = a²ths[m]\n",
    "ω1 = ω1s[m]\n",
    "md = Mode(copy(Es[m]), ωt+ω1*d, d * a²)\n",
    "solve!(laplacian!, md, las, Dlasing, isprint=true)\n",
    "Esalt = √md.c² * md.E\n",
    "ωsalt = md.ω\n",
    "\n",
    "println(\"expected a² = \", a²)\n",
    "println(\"actual   a² = \", md.c² / d)\n",
    "println(\"expected ω1 = \", ω1)\n",
    "println(\"actual   ω1 = \", (md.ω-ωt)/d)\n",
    "\n",
    "println(\"\\n theoretical stability eigenvalues:\")\n",
    "imjh = imag(J[m]/H)\n",
    "term = (abs(K[m])^2 - abs(J[m])^2) / abs(H)^2\n",
    "other_val(z) = a²*(imjh + z*√(0.0im + imjh^2 + term))\n",
    "println(0.0)\n",
    "println(other_val(1))\n",
    "println(other_val(-1))\n",
    "println(2a² * imag(I[m] / H))\n",
    "\n",
    "println(\"\\nnumerical stability eigenvalues\")\n",
    "Λsmallest = smallest_stability_eigs(laplacian!, Esalt, ωsalt, Dlasing, γpar, las.ɛ)\n",
    "for λ in Λsmallest\n",
    "    println(λ / d)\n",
    "end"
   ]
  },
  {
   "cell_type": "code",
   "execution_count": 41,
   "metadata": {
    "collapsed": false
   },
   "outputs": [
    {
     "name": "stdout",
     "output_type": "stream",
     "text": [
      "Cnv but not n=4|ℓ|; zeros everywhere\n",
      "|K₊|+|K₋| = 4.912353430698512e-17\n",
      "if K=0, then T independent of z\n",
      "and ω1₊ = ω1₋ satisfied for all z because\n",
      "Cnv -> I₊ = I₋)\n",
      "outputting random phase angle\n",
      "standing lasing mode E = |a₊|E₊ exp(iθ)|a₋|E₋\n",
      "θ1 = 0.2803373042272903 × π/2\n",
      "ω1[1] = 1.0764158754528914e-5\n",
      "  |a₊|²[1] = 0.33875738716939496\n",
      "  |a₋|²[1] = 0.3387573871693948\n",
      "|a₊|²=|a₋|² because mirror symmetry\n"
     ]
    },
    {
     "data": {
      "text/plain": [
       "([0.440352807743811],[1.0764158754528914e-5],[(0.33875738716939496,0.3387573871693948)])"
      ]
     },
     "execution_count": 41,
     "metadata": {},
     "output_type": "execute_result"
    }
   ],
   "source": [
    "# get standing mode allowed phases\n",
    "θroots, ω1roots, a²standing = standing_roots_test(H, I, J, K, GD, iscnv, nsym, ℓ, maxits=15)"
   ]
  },
  {
   "cell_type": "code",
   "execution_count": 42,
   "metadata": {
    "collapsed": false
   },
   "outputs": [
    {
     "name": "stdout",
     "output_type": "stream",
     "text": [
      "there shouldn't be too many |f| here:\n",
      "|f| = 1.5617529687870675e-9\n",
      "theoretically predicted stability eigenvalues:\n"
     ]
    },
    {
     "data": {
      "text/plain": [
       "4-element Array{Float64,1}:\n",
       "  0.0     \n",
       "  0.0     \n",
       " -0.838562\n",
       " -0.838562"
      ]
     },
     "execution_count": 42,
     "metadata": {},
     "output_type": "execute_result"
    }
   ],
   "source": [
    "# for N = 4ℓ uniform z = ±i case, which is\n",
    "# very special in that |a₊|²+|a₋|²=1 is the only constraint\n",
    "# notice you can select a₊² anything and SALT is still solved immediately\n",
    "d = 0.0001\n",
    "z = 1im  # either im or -im is fine\n",
    "Dlasing = Dt * (1+d)\n",
    "a₊² = 0.3\n",
    "assert(0 < a₊² < 1)\n",
    "a₋² = 1 - a₊²\n",
    "Esalt_guess = √a₊² * Es[1] + z * √a₋² * Es[2]\n",
    "ωsalt_guess = ωt # uniform case ω1 = 0\n",
    "md = Mode(copy(Esalt_guess), ωsalt_guess, 0.0)\n",
    "c²guess = d * norm(Esalt_guess)^2 / norm(md.E)^2\n",
    "md.c² = c²guess\n",
    "println(\"there shouldn't be too many |f| here:\")\n",
    "solve!(laplacian!, md, las, Dlasing, isprint=true)\n",
    "\n",
    "# hack; standing_roots function does not work for \n",
    "# this special case because T± singular\n",
    "θroots = [z == 1im ? π/2 : -π/2]\n",
    "ω1roots = [0]\n",
    "a²standing = ((a₊², a₋²),)\n",
    "\n",
    "# stability eigenvalues using new method specifically\n",
    "# for N = 4ℓ uniform\n",
    "println(\"theoretically predicted stability eigenvalues:\")\n",
    "ki = imag(K[1]/H)\n",
    "2*[0, 0, ki, ki]"
   ]
  },
  {
   "cell_type": "code",
   "execution_count": 35,
   "metadata": {
    "collapsed": false,
    "scrolled": false
   },
   "outputs": [
    {
     "name": "stdout",
     "output_type": "stream",
     "text": [
      "|f| = 1.5617516205102857e-9\n",
      "expected c² = 0.0001\n",
      "actual   c² = 0.0001\n",
      "expected ω1 = 0\n",
      "actual   ω1 = 0.0\n",
      "coefficient |a_1|^2:\n",
      "\texpected: 0.273\n",
      "\tactual:   0.27299999999999996\n",
      "coefficient |a_2|^2:\n",
      "\texpected: 0.727\n",
      "\tactual:   0.7269999999999999\n",
      "expected θ = 1.5707963267948966\n",
      "actual   θ = 1.5707963267948968\n",
      "\n",
      "numerical stability eigenvalues\n",
      "1.5133863214992654e-7 + 0.0im\n",
      "1.5139523894025716e-7 + 0.0im\n",
      "-0.8392642819237492 + 0.0im\n",
      "-0.8392642820263274 + 0.0im\n",
      "if the zero eigenvalues are small but positive, try halving d and\n",
      "the zero eigenvalues will double, meaning it's some sort of\n",
      "small residual at zeroth order that is nothing to worry about\n",
      "\n",
      "theoretical stability eigenvalues\n",
      "-5.76985678950921e-17 + 0.0im\n",
      "1.005787638168938e-16 + 0.0im\n",
      "-0.838561714205012 + 2.5257797458649368e-17im\n",
      "-0.838561714205012 - 2.5257797458649368e-17im\n",
      "\n",
      "norm(MatFinal - MatFinalAlternate) = 1.308944633364907e-16\n",
      "\n",
      "closed-form theoretical predictions for Cnv with n==4ℓ:\n",
      "note if uniform profiles, these will not be correct\n",
      "standing solution with z = ±i\n",
      "0.0 + 0.0im\n",
      "2.7755575615628914e-17 + 0.0im\n",
      "-0.4578546959559364 + 0.0im\n",
      "-0.4578546959559364 - 0.0im\n",
      "theoretical eigenvalues from 3x3 problem for z = 0 + 1im\n",
      "\t0.0\n",
      "\t-0.4578546959559365\n",
      "\t-0.45785469595593653\n",
      "theoretical eigenvalues from 3x3 problem for z = 0 - 1im\n",
      "\t0.0\n",
      "\t-0.4578546959559365\n",
      "\t-0.45785469595593653\n"
     ]
    }
   ],
   "source": [
    "mroot = 1\n",
    "d = 0.0001\n",
    "Dlasing = Dt * (1+d)\n",
    "a²s = a²standing[mroot]\n",
    "θroot = θroots[mroot]\n",
    "Esalt_guess = √a²s[1] * Es[1] + exp(im*θroot) * √a²s[2] * Es[2]\n",
    "ωsalt_guess = ωt + d * ω1roots[mroot]\n",
    "md = Mode(copy(Esalt_guess), ωsalt_guess, 0.0)\n",
    "c²guess = d * norm(Esalt_guess)^2 / norm(md.E)^2\n",
    "md.c² = c²guess\n",
    "solve!(laplacian!, md, las, Dlasing, isprint=true)\n",
    "coefs = √md.c² * collect(coefficients( md.E, Es))\n",
    "Esalt = √md.c² * md.E\n",
    "ωsalt = md.ω\n",
    "println(\"expected c² = \", c²guess)\n",
    "println(\"actual   c² = \", md.c²)\n",
    "\n",
    "println(\"expected ω1 = \", ω1roots[mroot])\n",
    "println(\"actual   ω1 = \", (md.ω - ωt)/d)\n",
    "for m in (1, 2)\n",
    "    println(\"coefficient |a_\", m, \"|^2:\")\n",
    "    println(\"\\texpected: \", a²s[m])\n",
    "    println(\"\\tactual:   \", abs(coefs[m])^2/d)\n",
    "end\n",
    "println(\"expected θ = \", θroot)\n",
    "println(\"actual   θ = \", angle(coefs[2]/coefs[1]))\n",
    "\n",
    "println(\"\\nnumerical stability eigenvalues\")\n",
    "Λsmallest = smallest_stability_eigs(laplacian!, Esalt, ωsalt, Dlasing, γpar, las.ɛ)\n",
    "for λ in Λsmallest\n",
    "    println(λ / d)\n",
    "end\n",
    "println(\"if the zero eigenvalues are small but positive, try halving d and\")\n",
    "println(\"the zero eigenvalues will double, meaning it's some sort of\")\n",
    "println(\"small residual at zeroth order that is nothing to worry about\")\n",
    "\n",
    "println(\"\\ntheoretical stability eigenvalues\")\n",
    "z = exp(im*θroot)\n",
    "a₊a₋ = sqrt(a²s[1]*a²s[2])\n",
    "a₊², a₋² = a²s \n",
    "# be careful to either say 1 + 1 or 1+1 here, not 1 +1 or else\n",
    "# it will get interpreted as the next column!\n",
    "XQmP̃ = [2a₋²*K[2]*z^2   a₊a₋*((z-1/z)*(I[2]+J[2]) - 2z*K[2]) ;\n",
    "        -2a₊a₋/z*K[1]       a₋²*(z^2-1)*I[2] + a₊²*K[1]*(1+z^-2)     ]\n",
    "XQpP̃ = [2a₊²*I[1]      a₊a₋*((z+1/z)*(I[2]+J[2]) + 2z*K[2]); \n",
    "    2a₊a₋*(z*(I[1] + J[1]) + 1/z*K[1])    a₋²*(z^2+1)*I[2] + a₊²*K[1]*(1-z^-2)] \n",
    "MatFinal = [ imag(XQpP̃/H)   -real(XQmP̃/H);\n",
    "            -real(XQpP̃/H)  -imag(XQmP̃/H) ]\n",
    "\n",
    "Λfinal, ~ = eig(MatFinal)\n",
    "Λfinal = Λfinal[sortperm(abs(Λfinal))]\n",
    "for λ in Λfinal\n",
    "    println(λ)\n",
    "end\n",
    "\n",
    "i₊, i₋ = I[1]/H, I[2]/H\n",
    "j₊, j₋ = J[1]/H, J[2]/H\n",
    "k₊, k₋ = K[1]/H, K[2]/H\n",
    "zr, zi = real(z), imag(z)\n",
    "MatFinalAlternate_first2cols = \n",
    "2*[ a₊² * imag(i₊)      a₊a₋*(zr*imag(i₋ + j₋) + imag(z*k₋));\n",
    "    a₊a₋*imag(z*(i₊ + j₊)+1/z*k₊)     a₋²*zr*imag(z*i₋) + a₊²*real(1/z*k₊)*zi;\n",
    "    -a₊² * real(i₊)      -a₊a₋*(zr*real(i₋+j₋) + real(z*k₋));\n",
    "    -a₊a₋*real(z*(i₊+j₊)+1/z*k₊)    -a₋²*zr*real(z*i₋) + a₊²*imag(1/z*k₊)*zi]\n",
    "MatFinalAlternate_second2cols = \n",
    "2*[ -a₋²*real(k₋*z^2)   a₊a₋*(zi*imag(i₋+j₋) + real(z*k₋));\n",
    "    a₊a₋*real(1/z*k₊)   a₋²*zi*imag(z*i₋) - a₊²*real(1/z*k₊)*zr;\n",
    "    -a₋²*imag(k₋*z^2)   -a₊a₋*(zi*real(i₋+j₋) - imag(z*k₋));\n",
    "    a₊a₋*imag(1/z*k₊)   -a₋²*zi*real(z*i₋) - a₊²*imag(1/z*k₊)*zr]\n",
    "MatFinalAlternate = [MatFinalAlternate_first2cols  MatFinalAlternate_second2cols]\n",
    "println(\"\\nnorm(MatFinal - MatFinalAlternate) = \", norm(MatFinalAlternate - MatFinal))\n",
    "\n",
    "\n",
    "if nsym==4abs(ℓ) && iscnv\n",
    "    println(\"\\nclosed-form theoretical predictions for Cnv with n==4ℓ:\")\n",
    "    println(\"note if uniform profiles, these will not be correct\")\n",
    "    isrealz = iseven(round(Int, θroot/(π/2)))\n",
    "    println(\"standing solution with z = \", isrealz ? \"±1\" : \"±i\")\n",
    "    vals = [0.0, 0.0, 0.0, 0.0] + 0im\n",
    "    vals[1] = 0.0\n",
    "    \n",
    "    α = isrealz ? 1 : -1\n",
    "    # I have no idea what to name this!\n",
    "    \n",
    "    vals[2] = 2a₊² * imag(2i₊ + j₊ + α*k₊)\n",
    "    radicand = 0.0im + imag(k₊ - α * j₊)^2 - α * 8real(k₊)*real(j₊ + α * k₊)\n",
    "    vals[3] = -a₊² * imag(j₊ + α * 3k₊) + a₊² * √radicand\n",
    "    vals[4] = -a₊² * imag(j₊ + α * 3k₊) - a₊² * √radicand\n",
    "    abslt(x, y) = abs(x) < abs(y)\n",
    "    sort!(vals, lt=abslt)\n",
    "    for λ in vals\n",
    "        println(λ)\n",
    "    end\n",
    "    \n",
    "    for sn in (1, -1)\n",
    "        Mat = nothing\n",
    "        if isrealz\n",
    "            Mat = 2a₊² * [imag(i₊)   sn*imag(i₋+j₋+k₋)   -√2*real(k₋);\n",
    "                sn*imag(i₊+j₊+k₊)    imag(i₋)         √2*sn*real(k₊);\n",
    "                1/√2*real(j₊+k₊)       -1/√2*sn*real(j₋+k₋)  -imag(k₋)-imag(k₊)]\n",
    "        else\n",
    "            Mat = 2a₊² * [\n",
    "                imag(i₊)    sn*√2*real(k₋)    sn*imag(i₋+j₋-k₋);\n",
    "                sn/√2*real(j₊-k₊)   imag(k₊+k₋)   -1/√2*real(j₋-k₋);\n",
    "                sn*imag(i₊+j₊-k₋)   -√2*real(k₊)   imag(i₋)\n",
    "            ]\n",
    "        end\n",
    "        vals, ~ = eig(Mat)\n",
    "        sort!(vals, lt=abslt)\n",
    "        println(\"theoretical eigenvalues from 3x3 problem for z = \", sn*(isrealz ? 1 : 1im))\n",
    "        for λ in vals\n",
    "            println(\"\\t\", λ)\n",
    "        end\n",
    "    end\n",
    "elseif iscnv && nsym!=4abs(ℓ)\n",
    "    println(\"\\nclosed-form theoretical predictions for Cnv with n!=4ℓ:\")\n",
    "    println(\"two nonzero eigenvalues\")\n",
    "    vals = [0.0, 0.0]\n",
    "    ss = [1, -1]\n",
    "    tr0 = 2imag(a₊² * i₊ + a₋² * i₋)\n",
    "    det0 = -4a₊a₋^2*(imag(i₊)*imag(j₋) + imag(j₊)*imag(i₋) + imag(j₊)*imag(j₋))\n",
    "    for m = (1, 2)\n",
    "        vals[m] = tr0/2 + ss[m] * sqrt((tr0/2)^2 - det0)\n",
    "    end\n",
    "    # 2a₊²*(imag(i₊) + 2abs(imag(i₊)))\n",
    "    # also works for TM (J=I), and is provably both signs\n",
    "    for λ in vals\n",
    "        println(λ)\n",
    "    end\n",
    "end"
   ]
  }
 ],
 "metadata": {
  "kernelspec": {
   "display_name": "Julia 0.4.5",
   "language": "julia",
   "name": "julia-0.4"
  },
  "language_info": {
   "file_extension": ".jl",
   "mimetype": "application/julia",
   "name": "julia",
   "version": "0.4.5"
  }
 },
 "nbformat": 4,
 "nbformat_minor": 0
}
