{
 "cells": [
  {
   "cell_type": "code",
   "execution_count": 2,
   "metadata": {
    "collapsed": true
   },
   "outputs": [
    {
     "name": "stderr",
     "output_type": "stream",
     "text": [
      "/Users/davidliu/.julia/v0.4/Conda/deps/usr/lib/python2.7/site-packages/matplotlib/font_manager.py:273: UserWarning: Matplotlib is building the font cache using fc-list. This may take a moment.\n",
      "  warnings.warn('Matplotlib is building the font cache using fc-list. This may take a moment.')\n"
     ]
    },
    {
     "data": {
      "text/plain": [
       "smallest_stability_eigs (generic function with 1 method)"
      ]
     },
     "execution_count": 2,
     "metadata": {},
     "output_type": "execute_result"
    }
   ],
   "source": [
    "using PyPlot\n",
    "include(\"saltsolver.jl\")"
   ]
  },
  {
   "cell_type": "code",
   "execution_count": 3,
   "metadata": {
    "collapsed": false
   },
   "outputs": [],
   "source": [
    "nsym = 8\n",
    "ℓ = 2\n",
    "Lcav = 1.37\n",
    "\n",
    "wantcnv = true\n",
    "if wantcnv\n",
    "    ɛrpiece = [1.0, 1.1, 1.1]\n",
    "    ɛipiece = [0.3, 0.25, 0.25]\n",
    "    Fpiece = [1.1, 0.9, 0.9]\n",
    "else \n",
    "    ɛrpiece = [1.0, 1.2, 1.1]\n",
    "    ɛipiece = [0.3, 0.25, 0.32]\n",
    "    Fpiece = [1.1, 0.9, 0.95]\n",
    "end\n",
    "    \n",
    "ɛr = cn_profile(ɛrpiece, nsym)\n",
    "ɛi = cn_profile(ɛipiece, nsym)\n",
    "ɛ = ɛr + im*ɛi\n",
    "F = cn_profile(Fpiece, nsym)\n",
    "\n",
    "ismirror(v) = (v == ring_flip(v))\n",
    "iscnv = (ismirror(ɛ) && ismirror(F))\n",
    "assert(wantcnv == iscnv)\n",
    "\n",
    "N = length(F)\n",
    "h = Lcav / N\n",
    "laplacian!(J) = periodic!(J, h)\n",
    "Eguess, ωguess = ring_eigenpair(N, ℓ, h)\n",
    "\n",
    "# purposely make it far from gain center to \n",
    "# see low-Q effects\n",
    "ωa = round(ωguess) + 1\n",
    "γ⟂ = 0.7\n",
    "γpar = 0.1\n",
    "las = Laser(ɛ, F, ωa, γ⟂);"
   ]
  },
  {
   "cell_type": "code",
   "execution_count": 4,
   "metadata": {
    "collapsed": false
   },
   "outputs": [
    {
     "name": "stdout",
     "output_type": "stream",
     "text": [
      "threshold search slightly breaks pure chirality\n",
      "use projection operator to get it back\n",
      "chiral-projected mode should automatically be solution\n",
      "|f| = 1.0414826611447099e-9\n",
      "ℓ eigenvalue and residual:\n",
      "(2.0,2.663215124191999e-16)\n",
      "Cnv, so flipped solved immediate\n",
      "|f| = 1.0414576881842615e-9\n",
      "ℓ eigenvalue and residual:\n",
      "(-2.0000000000000004,2.8333756983454306e-16)\n",
      "\n",
      "check that degenerate and at threshold\n",
      "ω₊ - ω₋ = 0.0\n",
      "|c₊²|+|c₋²| = 1.1519969446704563e-10\n"
     ]
    }
   ],
   "source": [
    "Dguess = 1.5* mean(ɛipiece)\n",
    "md = Mode(copy(Eguess), ωguess, 0.0)\n",
    "Dt = threshold!(laplacian!, md, las, (Dguess, Dguess*1.05))\n",
    "\n",
    "println(\"threshold search slightly breaks pure chirality\")\n",
    "println(\"use projection operator to get it back\")\n",
    "md = Mode(project_chiral(md.E, nsym, ℓ), md.ω, md.c²)\n",
    "println(\"chiral-projected mode should automatically be solution\")\n",
    "solve!(laplacian!, md, las, Dt, isprint=true)\n",
    "println(\"ℓ eigenvalue and residual:\\n\", get_ell(md.E, nsym))\n",
    "\n",
    "fmd = mode_flip(md)\n",
    "if iscnv\n",
    "    println(\"Cnv, so flipped solved immediate\")    \n",
    "else\n",
    "    println(\"Cn only, so flipped solve not immediate\")\n",
    "end\n",
    "solve!(laplacian!, fmd, las, Dt, isprint=true)\n",
    "if !iscnv\n",
    "    fmd = Mode(project_chiral(fmd.E, nsym, -ℓ), fmd.ω, fmd.c²)\n",
    "    println(\"reprojecting fmd to fix slightly broken chiral symmetry\")\n",
    "    println(\"reprojected fmd should immediately solve Newton\")\n",
    "    solve!(laplacian!, fmd, las, Dt, isprint=true)\n",
    "end\n",
    "println(\"ℓ eigenvalue and residual:\\n\", get_ell(fmd.E, nsym))\n",
    "\n",
    "println(\"\\ncheck that degenerate and at threshold\")\n",
    "println(\"ω₊ - ω₋ = \", md.ω - fmd.ω)\n",
    "println(\"|c₊²|+|c₋²| = \", abs(md.c²) + abs(fmd.c²))\n",
    "Es = (md.E, fmd.E)\n",
    "ωt = md.ω\n",
    "H, I, J, K, GD = overlap_integrals(Es, ωt, Dt, las, nsym, ℓ, Lcav);"
   ]
  },
  {
   "cell_type": "code",
   "execution_count": 5,
   "metadata": {
    "collapsed": false
   },
   "outputs": [
    {
     "name": "stdout",
     "output_type": "stream",
     "text": [
      "|f| = 0.0002405703663647581\n",
      "|f| = 3.8228657406120364e-13\n",
      "expected a² = 1.0130676907729914\n",
      "actual   a² = 1.013068476969252\n",
      "expected ω1 = 6.998553203308449e-6\n",
      "actual   ω1 = 6.998579493711077e-6\n",
      "\n",
      " theoretical stability eigenvalues:\n",
      "0.0\n",
      "-0.6248123155826234 + 0.13035966494684315im\n",
      "-0.6248123155826234 - 0.13035966494684315im\n",
      "-1.2496246311652468\n",
      "\n",
      "numerical stability eigenvalues\n",
      "7.620026134931075e-10 + 0.0im\n",
      "-0.625166229441428 + 0.1304977709717101im\n",
      "-0.625166229441428 - 0.1304977709717101im\n",
      "-1.2512111725618833 + 0.0im\n"
     ]
    }
   ],
   "source": [
    "# CIRCULATING MODES\n",
    "ω1s = [0.0, 0.0]\n",
    "a²ths = [0.0, 0.0]\n",
    "for m in (1, 2)\n",
    "    ω1s[m] = -imag(GD / I[m]) / imag(H / I[m])\n",
    "    a²ths[m] = real((ω1s[m]*H+GD) / I[m])\n",
    "end\n",
    "\n",
    "m = 2\n",
    "d = 0.0001\n",
    "Dlasing = Dt*(1+d)\n",
    "a² = a²ths[m]\n",
    "ω1 = ω1s[m]\n",
    "md = Mode(copy(Es[m]), ωt+ω1*d, d * a²)\n",
    "solve!(laplacian!, md, las, Dlasing, isprint=true)\n",
    "Esalt = √md.c² * md.E\n",
    "ωsalt = md.ω\n",
    "\n",
    "println(\"expected a² = \", a²)\n",
    "println(\"actual   a² = \", md.c² / d)\n",
    "println(\"expected ω1 = \", ω1)\n",
    "println(\"actual   ω1 = \", (md.ω-ωt)/d)\n",
    "\n",
    "println(\"\\n theoretical stability eigenvalues:\")\n",
    "imjh = imag(J[m]/H)\n",
    "term = (abs(K[m])^2 - abs(J[m])^2) / abs(H)^2\n",
    "other_val(z) = a²*(imjh + z*√(0.0im + imjh^2 + term))\n",
    "println(0.0)\n",
    "println(other_val(1))\n",
    "println(other_val(-1))\n",
    "println(2a² * imag(I[m] / H))\n",
    "\n",
    "println(\"\\nnumerical stability eigenvalues\")\n",
    "Λsmallest = smallest_stability_eigs(laplacian!, Esalt, ωsalt, Dlasing, γpar, las.ɛ)\n",
    "for λ in Λsmallest\n",
    "    println(λ / d)\n",
    "end"
   ]
  },
  {
   "cell_type": "code",
   "execution_count": 6,
   "metadata": {
    "collapsed": false
   },
   "outputs": [
    {
     "name": "stdout",
     "output_type": "stream",
     "text": [
      "n = 4|ℓ|; expecting zeros at mπ/2 exactly because Cnv\n",
      "a² differs across roots because ±i and ±1 solutions\n",
      "standing lasing mode E = |a₊|E₊ exp(iθ)|a₋|E₋\n",
      "θ1 = -1.0 × π/2\n",
      "ω1[1] = 0.0001401849840449582\n",
      "  |a₊|²[1] = 0.34196629711450466\n",
      "  |a₋|²[1] = 0.34196629711450477\n",
      "θ2 = 0.0 × π/2\n",
      "ω1[2] = -0.00012289743323769568\n",
      "  |a₊|²[2] = 0.3335178307019262\n",
      "  |a₋|²[2] = 0.3335178307019262\n",
      "θ3 = 0.9999999999999996 × π/2\n",
      "ω1[3] = 0.00014018498404501126\n",
      "  |a₊|²[3] = 0.3419662971145046\n",
      "  |a₋|²[3] = 0.34196629711450477\n",
      "θ4 = 2.0000000000000004 × π/2\n",
      "ω1[4] = -0.00012289743323769568\n",
      "  |a₊|²[4] = 0.3335178307019262\n",
      "  |a₋|²[4] = 0.3335178307019262\n",
      "|a₊|²=|a₋|² because mirror symmetry\n"
     ]
    },
    {
     "data": {
      "image/png": "[encoded data removed]",
      "text/plain": [
       "PyPlot.Figure(PyObject <matplotlib.figure.Figure object at 0x323188ed0>)"
      ]
     },
     "metadata": {},
     "output_type": "display_data"
    },
    {
     "data": {
      "text/plain": [
       "([-1.5707963267948966,0.0,1.570796326794896,3.1415926535897936],[0.0001401849840449582,-0.00012289743323769568,0.00014018498404501126,-0.00012289743323769568],[(0.34196629711450466,0.34196629711450477),(0.3335178307019262,0.3335178307019262),(0.3419662971145046,0.34196629711450477),(0.3335178307019262,0.3335178307019262)])"
      ]
     },
     "execution_count": 6,
     "metadata": {},
     "output_type": "execute_result"
    }
   ],
   "source": [
    "# get standing mode allowed phases\n",
    "θroots, ω1roots, a²standing = standing_roots_test(H, I, J, K, GD, iscnv, nsym, ℓ)"
   ]
  },
  {
   "cell_type": "code",
   "execution_count": 12,
   "metadata": {
    "collapsed": false,
    "scrolled": true
   },
   "outputs": [
    {
     "name": "stdout",
     "output_type": "stream",
     "text": [
      "|f| = 0.0031897101292796236\n",
      "|f| = 2.9982065976415324e-13\n",
      "expected c² = 0.00012882929215343603\n",
      "actual   c² = 0.00012883079733359856\n",
      "expected ω1 = -0.00012289743323769568\n",
      "actual   ω1 = -0.00012258974280143775\n",
      "coefficient |a_1|^2:\n",
      "\texpected: 0.3335178307019262\n",
      "\tactual:   0.3335211051190766\n",
      "coefficient |a_2|^2:\n",
      "\texpected: 0.3335178307019262\n",
      "\tactual:   0.33352110512119637\n",
      "expected θ = 0.0\n",
      "actual   θ = 2.798197072196322e-11\n",
      "\n",
      "numerical stability eigenvalues\n",
      "-1.7676817457603425e-10 + 0.0im\n",
      "0.032266340928185644 + 0.0im\n",
      "0.4254301744060616 + 0.0im\n",
      "-1.2511993399189727 + 0.0im\n",
      "\n",
      "theoretical stability eigenvalues\n",
      "1.6084936184278962e-18\n",
      "0.032252019371318864\n",
      "0.42545308077422\n",
      "-1.2496246311652486\n",
      "\n",
      "norm(MatFinal - MatFinalAlternate) = 8.461802603816965e-17\n",
      "\n",
      "closed-form theoretical predictions for Cnv with n==4ℓ:\n",
      "standing solution with z = ±1\n",
      "0.0\n",
      "0.03225201937131886\n",
      "0.4254530807742194\n",
      "-1.249624631165247\n",
      "theoretical eigenvalues from 3x3 problem for sign = 1\n",
      "\t0.016098886435951424\n",
      "\t0.42616988005066586\n",
      "\t-1.2496246311652484\n",
      "theoretical eigenvalues from 3x3 problem for sign = -1\n",
      "\t0.016098886435951424\n",
      "\t0.42616988005066586\n",
      "\t-1.2496246311652484\n"
     ]
    }
   ],
   "source": [
    "mroot = 2\n",
    "d = 0.0001\n",
    "Dlasing = Dt * (1+d)\n",
    "a²s = a²standing[mroot]\n",
    "θroot = θroots[mroot]\n",
    "Esalt_guess = √a²s[1] * Es[1] + exp(im*θroot) * √a²s[2] * Es[2]\n",
    "ωsalt_guess = ωt + d * ω1roots[mroot]\n",
    "md = Mode(copy(Esalt_guess), ωsalt_guess, 0.0)\n",
    "c²guess = d * norm(Esalt_guess)^2 / norm(md.E)^2\n",
    "md.c² = c²guess\n",
    "solve!(laplacian!, md, las, Dlasing, isprint=true)\n",
    "coefs = √md.c² * collect(coefficients( md.E, Es))\n",
    "Esalt = √md.c² * md.E\n",
    "ωsalt = md.ω\n",
    "println(\"expected c² = \", c²guess)\n",
    "println(\"actual   c² = \", md.c²)\n",
    "\n",
    "println(\"expected ω1 = \", ω1roots[mroot])\n",
    "println(\"actual   ω1 = \", (md.ω - ωt)/d)\n",
    "for m in (1, 2)\n",
    "    println(\"coefficient |a_\", m, \"|^2:\")\n",
    "    println(\"\\texpected: \", a²s[m])\n",
    "    println(\"\\tactual:   \", abs(coefs[m])^2/d)\n",
    "end\n",
    "println(\"expected θ = \", θroot)\n",
    "println(\"actual   θ = \", angle(coefs[2]/coefs[1]))\n",
    "\n",
    "println(\"\\nnumerical stability eigenvalues\")\n",
    "Λsmallest = smallest_stability_eigs(laplacian!, Esalt, ωsalt, Dlasing, γpar, las.ɛ)\n",
    "for λ in Λsmallest\n",
    "    println(λ / d)\n",
    "end\n",
    "\n",
    "println(\"\\ntheoretical stability eigenvalues\")\n",
    "z = exp(im*θroot)\n",
    "a₊a₋ = sqrt(a²s[1]*a²s[2])\n",
    "a₊², a₋² = a²s \n",
    "# be careful to either say 1 + 1 or 1+1 here, not 1 +1 or else\n",
    "# it will get interpreted as the next column!\n",
    "XQmP̃ = [2a₋²*K[2]*z^2   a₊a₋*((z-1/z)*(I[2]+J[2]) - 2z*K[2]) ;\n",
    "        -2a₊a₋/z*K[1]       a₋²*(z^2-1)*I[2] + a₊²*K[1]*(1+z^-2)     ]\n",
    "XQpP̃ = [2a₊²*I[1]      a₊a₋*((z+1/z)*(I[2]+J[2]) + 2z*K[2]); \n",
    "    2a₊a₋*(z*(I[1] + J[1]) + 1/z*K[1])    a₋²*(z^2+1)*I[2] + a₊²*K[1]*(1-z^-2)] \n",
    "MatFinal = [ imag(XQpP̃/H)   -real(XQmP̃/H);\n",
    "            -real(XQpP̃/H)  -imag(XQmP̃/H) ]\n",
    "\n",
    "Λfinal, ~ = eig(MatFinal)\n",
    "Λfinal = Λfinal[sortperm(abs(Λfinal))]\n",
    "for λ in Λfinal\n",
    "    println(λ)\n",
    "end\n",
    "\n",
    "i₊, i₋ = I[1]/H, I[2]/H\n",
    "j₊, j₋ = J[1]/H, J[2]/H\n",
    "k₊, k₋ = K[1]/H, K[2]/H\n",
    "zr, zi = real(z), imag(z)\n",
    "MatFinalAlternate_first2cols = \n",
    "2*[ a₊² * imag(i₊)      a₊a₋*(zr*imag(i₋ + j₋) + imag(z*k₋));\n",
    "    a₊a₋*imag(z*(i₊ + j₊)+1/z*k₊)     a₋²*zr*imag(z*i₋) + a₊²*real(1/z*k₊)*zi;\n",
    "    -a₊² * real(i₊)      -a₊a₋*(zr*real(i₋+j₋) + real(z*k₋));\n",
    "    -a₊a₋*real(z*(i₊+j₊)+1/z*k₊)    -a₋²*zr*real(z*i₋) + a₊²*imag(1/z*k₊)*zi]\n",
    "MatFinalAlternate_second2cols = \n",
    "2*[ -a₋²*real(k₋*z^2)   a₊a₋*(zi*imag(i₋+j₋) + real(z*k₋));\n",
    "    a₊a₋*real(1/z*k₊)   a₋²*zi*imag(z*i₋) - a₊²*real(1/z*k₊)*zr;\n",
    "    -a₋²*imag(k₋*z^2)   -a₊a₋*(zi*real(i₋+j₋) - imag(z*k₋));\n",
    "    a₊a₋*imag(1/z*k₊)   -a₋²*zi*real(z*i₋) - a₊²*imag(1/z*k₊)*zr]\n",
    "MatFinalAlternate = [MatFinalAlternate_first2cols  MatFinalAlternate_second2cols]\n",
    "println(\"\\nnorm(MatFinal - MatFinalAlternate) = \", norm(MatFinalAlternate - MatFinal))\n",
    "\n",
    "\n",
    "if nsym==4abs(ℓ) && iscnv\n",
    "    println(\"\\nclosed-form theoretical predictions for Cnv with n==4ℓ:\")\n",
    "    isrealz = iseven(round(Int, θroot/(π/2)))\n",
    "    println(\"standing solution with z = \", isrealz ? \"±1\" : \"±i\")\n",
    "    vals = [0.0, 0.0, 0.0, 0.0]\n",
    "    vals[1] = 0.0\n",
    "    \n",
    "    α = isrealz ? 1 : -1\n",
    "    # I have no idea what to name this!\n",
    "    \n",
    "    vals[2] = 2a₊² * imag(2i₊ + j₊ + α*k₊)\n",
    "    radicand = imag(k₊ - α * j₊)^2 - α * 8real(k₊)*real(j₊ + α * k₊)    \n",
    "    vals[3] = -a₊² * imag(j₊ + α * 3k₊) + a₊² * √radicand\n",
    "    vals[4] = -a₊² * imag(j₊ + α * 3k₊) - a₊² * √radicand\n",
    "    abslt(x, y) = abs(x) < abs(y)\n",
    "    sort!(vals, lt=abslt)\n",
    "    for λ in vals\n",
    "        println(λ)\n",
    "    end\n",
    "    \n",
    "    if isrealz\n",
    "        for sn in (1, -1)\n",
    "            Mat = a₊² * [2imag(i₊)   2sn*imag(i₋+j₋+k₋)   -√2*real(k₋);\n",
    "                2sn*imag(i₊+j₊+k₊)    2imag(i₋)         √2*sn*real(k₊);\n",
    "                √2*real(j₊+k₊)       -√2*sn*real(j₋+k₋)  -imag(k₋)-imag(k₊)]\n",
    "            vals, ~ = eig(Mat)\n",
    "            sort!(vals, lt=abslt)\n",
    "            println(\"theoretical eigenvalues from 3x3 problem for sign = \", sn)\n",
    "            for λ in vals\n",
    "                println(\"\\t\", λ)\n",
    "            end\n",
    "        end\n",
    "    end\n",
    "    \n",
    "elseif iscnv && nsym!=4abs(ℓ)\n",
    "    println(\"\\nclosed-form theoretical predictions for Cnv with n!=4ℓ:\")    \n",
    "    println(\"two nonzero eigenvalues\")\n",
    "    vals = [0.0, 0.0]\n",
    "    ss = [1, -1]\n",
    "    tr0 = 2imag(a₊² * i₊ + a₋² * i₋)\n",
    "    det0 = -4a₊a₋^2*(imag(i₊)*imag(j₋) + imag(j₊)*imag(i₋) + imag(j₊)*imag(j₋))\n",
    "    for m = (1, 2)\n",
    "        vals[m] = tr0/2 + ss[m] * sqrt((tr0/2)^2 - det0)\n",
    "    end\n",
    "    for λ in vals\n",
    "        println(λ)\n",
    "    end\n",
    "end"
   ]
  }
 ],
 "metadata": {
  "kernelspec": {
   "display_name": "Julia 0.4.5",
   "language": "julia",
   "name": "julia-0.4"
  },
  "language_info": {
   "file_extension": ".jl",
   "mimetype": "application/julia",
   "name": "julia",
   "version": "0.4.5"
  }
 },
 "nbformat": 4,
 "nbformat_minor": 0
}
