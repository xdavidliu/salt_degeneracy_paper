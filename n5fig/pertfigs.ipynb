{
 "cells": [
  {
   "cell_type": "code",
   "execution_count": null,
   "metadata": {
    "collapsed": false
   },
   "outputs": [],
   "source": [
    "using PyPlot\n",
    "include(\"../saltsolver.jl\")\n",
    "include(\"../passive.jl\")\n",
    "\n",
    "function mirrorflip(E)\n",
    "    Eaug = [E[end]; E]\n",
    "    flipdim(Eaug,1)[2:end]\n",
    "end\n",
    "\n",
    "function coefs(f, Es)\n",
    "    dot(Es[1], f)/norm(Es[1])^2, dot(Es[2], f)/norm(Es[2])^2\n",
    "end"
   ]
  },
  {
   "cell_type": "code",
   "execution_count": null,
   "metadata": {
    "collapsed": false
   },
   "outputs": [],
   "source": [
    "n = 5\n",
    "N = n * 30\n",
    "L = 1.0\n",
    "h = L/N\n",
    "x = linspace(h, L, N)\n",
    "F = 1 + 0.2 * cos(2π*n*x)\n",
    "M = zeros(N, N)\n",
    "laplacian!(J) = periodic!(J, h)\n",
    "laplacian!(M)\n",
    "Λ, X = eig(M)\n",
    "reverse!(Λ)\n",
    "X = X[:, reverse(1:N)]\n",
    "ωs = √-Λ;"
   ]
  },
  {
   "cell_type": "code",
   "execution_count": null,
   "metadata": {
    "collapsed": false
   },
   "outputs": [],
   "source": [
    "ieig = 4\n",
    "ℓ = 2\n",
    "Ee, Eo = X[:, ieig], X[:, ieig+1]\n",
    "ω = ωs[ieig]\n",
    "plot(x, Ee, x, Eo)\n",
    "println(\"ω = \", ω)\n",
    "println(\"<Ee | Eo> = \", dot(Ee, Eo))"
   ]
  },
  {
   "cell_type": "code",
   "execution_count": null,
   "metadata": {
    "collapsed": false
   },
   "outputs": [],
   "source": [
    "ωa = 12.0\n",
    "γ⟂ = 1.0\n",
    "ɛ = (1 + im*0.3) * ones(N)\n",
    "las = Laser(ɛ, F, ωa, γ⟂)\n",
    "pmd = PassiveMode(copy(Ee), ω)\n",
    "D = 0.3\n",
    "passive_solve!(laplacian!, pmd, las, D, isprint=true)\n",
    "imag(pmd.ω)"
   ]
  },
  {
   "cell_type": "code",
   "execution_count": null,
   "metadata": {
    "collapsed": false
   },
   "outputs": [],
   "source": [
    "Dt = passive_threshold!(laplacian!, pmd, las, (D, D*1.05))\n",
    "ωt = real(pmd.ω)\n",
    "println(\"imag(ω) = \", imag(pmd.ω))\n",
    "println(\"note: mode no longer exactly symmetric\")"
   ]
  },
  {
   "cell_type": "code",
   "execution_count": null,
   "metadata": {
    "collapsed": false
   },
   "outputs": [],
   "source": [
    "pmdchiral = PassiveMode(project_chiral(pmd.E, n, ℓ), pmd.ω)\n",
    "passive_solve!(laplacian!, pmdchiral, las, Dt, isprint=true)\n",
    "println(\"instantly solved\")\n",
    "E₊ = copy(pmdchiral.E)\n",
    "E₋ = mirrorflip(E₊)\n",
    "Ep = E₊ + E₋\n",
    "Em = E₊ - E₋;\n",
    "println(\"also, recall that for ℓ≠4, Ee and Eo not rotations of one another\")\n",
    "println(norm(Ep - mirrorflip(Ep)))\n",
    "println(norm(Em + mirrorflip(Em)))\n",
    "H, Is, Js, Ks, GD = overlap_integrals((E₊, E₋), ωt, Dt, las, n, ℓ, L);"
   ]
  },
  {
   "cell_type": "code",
   "execution_count": null,
   "metadata": {
    "collapsed": false
   },
   "outputs": [],
   "source": [
    "I, J = Is[1], Js[1]\n",
    "ω1_circ = -imag(GD/I)/imag(H/I)\n",
    "a_circ = sqrt(real((ω1_circ*H+GD)/I))\n",
    "ω1_stand = -imag(GD/(2I+J))/imag(H/(2I+J))\n",
    "a_stand = sqrt(real((ω1_stand*H+GD)/(2I+J)));"
   ]
  },
  {
   "cell_type": "code",
   "execution_count": null,
   "metadata": {
    "collapsed": false
   },
   "outputs": [],
   "source": [
    "csq = 0.01\n",
    "d = 0.01\n",
    "D = Dt*(1+d)\n",
    "md_circ = Mode(copy(E₊), ωt, csq)\n",
    "md_stand = Mode(E₊ + E₋, ωt, csq)\n",
    "solve!(laplacian!, md_circ, las, D)\n",
    "solve!(laplacian!, md_stand, las, D);"
   ]
  },
  {
   "cell_type": "code",
   "execution_count": null,
   "metadata": {
    "collapsed": false
   },
   "outputs": [],
   "source": [
    "npts = 12\n",
    "ds = linspace(0, 0.01, npts)\n",
    "dωs_circ = zeros(ds)\n",
    "dωs_stand = zeros(ds)\n",
    "as_circ₊, as_circ₋ = zeros(ds), zeros(ds)\n",
    "as_stand₊, as_stand₋ = zeros(ds), zeros(ds)\n",
    "for (i, d) in enumerate(ds)\n",
    "    if i==1\n",
    "        continue\n",
    "    end\n",
    "    D = Dt * (1+d)\n",
    "    solve!(laplacian!, md_circ, las, D)\n",
    "    solve!(laplacian!, md_stand, las, D)    \n",
    "    coef₊, coef₋ = coefs(sqrt(md_circ.c²)*md_circ.E, (E₊, E₋))\n",
    "    as_circ₊[i], as_circ₋[i] = abs(coef₊), abs(coef₋)\n",
    "    coef₊, coef₋ = coefs(sqrt(md_stand.c²)*md_stand.E, (E₊, E₋))    \n",
    "    as_stand₊[i], as_stand₋[i] = abs(coef₊), abs(coef₋)\n",
    "    dωs_circ[i] = md_circ.ω - ωt\n",
    "    dωs_stand[i] = md_stand.ω - ωt    \n",
    "end"
   ]
  },
  {
   "cell_type": "code",
   "execution_count": null,
   "metadata": {
    "collapsed": false
   },
   "outputs": [],
   "source": [
    "plot(ds, as_circ₊.^2, \"o\", ds, a_circ^2 * ds, \"-\",\n",
    "ds, as_stand₊.^2, \"s\", ds, a_stand^2 * ds, \"-\")\n",
    "rc(\"font\", size=16)\n",
    "xticks([])\n",
    "yticks(linspace(0, 0.012, 4))\n",
    "text(0.007, 0.001, L\"\\mathbf{E}_+ + e^{i\\theta} \\mathbf{E}_-\", fontsize=24)\n",
    "text(0.004, 0.006, L\"\\mathbf{E}_+\", fontsize=24)\n",
    "text(0.003, 0.01, \"lines: perturbation theory\", fontsize=20)\n",
    "#xlabel(L\"d\", fontsize=24)\n",
    "ylabel(L\"\\mathrm{amplitude}^2\\equiv|a|^2d\", fontsize=24)\n",
    "tight_layout()\n",
    "savefig(\"n5amp.pdf\")"
   ]
  },
  {
   "cell_type": "code",
   "execution_count": null,
   "metadata": {
    "collapsed": false
   },
   "outputs": [],
   "source": [
    "plot(ds, ω1_circ*ds, \"-\", ds, dωs_circ, \"o\", ds, dωs_stand, \"s\")\n",
    "ticklabel_format(style=\"sci\", axis=\"y\", scilimits=(0,0))\n",
    "rc(\"font\", size=16)\n",
    "xticks(linspace(0, 0.01, 3))\n",
    "yticks(linspace(-2e-6, 0, 6))\n",
    "text(0.0065, -0.9e-6, L\"\\mathbf{E}_+ + e^{i\\theta} \\mathbf{E}_-\", fontsize=24)\n",
    "text(0.007, -1.4e-6, L\"\\mathbf{E}_+\", fontsize=24)\n",
    "#text(0.001, -1.8e-6, \"line: perturbation theory\", fontsize=20)\n",
    "xlabel(L\"d\", fontsize=24)\n",
    "ylabel(L\"\\omega - \\omega_\\mathrm{t}\", fontsize=24)\n",
    "tight_layout()\n",
    "savefig(\"n5omega.pdf\")"
   ]
  }
 ],
 "metadata": {
  "kernelspec": {
   "display_name": "Julia 0.4.5",
   "language": "julia",
   "name": "julia-0.4"
  },
  "language_info": {
   "file_extension": ".jl",
   "mimetype": "application/julia",
   "name": "julia",
   "version": "0.4.5"
  }
 },
 "nbformat": 4,
 "nbformat_minor": 0
}
