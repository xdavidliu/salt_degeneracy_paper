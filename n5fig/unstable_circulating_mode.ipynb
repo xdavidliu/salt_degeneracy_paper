{
 "cells": [
  {
   "cell_type": "code",
   "execution_count": null,
   "metadata": {
    "collapsed": false
   },
   "outputs": [],
   "source": [
    "using PyPlot\n",
    "include(\"../saltsolver.jl\")\n",
    "include(\"../passive.jl\")\n",
    "\n",
    "function mirrorflip(E)\n",
    "    Eaug = [E[end]; E]\n",
    "    flipdim(Eaug,1)[2:end]\n",
    "end\n",
    "\n",
    "function coefs(f, Es)\n",
    "    dot(Es[1], f)/norm(Es[1])^2, dot(Es[2], f)/norm(Es[2])^2\n",
    "end\n",
    "\n",
    "function quad_newton(A, B, C, σ, x, its=20, tol=1e-8)\n",
    "    N = size(A, 1)\n",
    "    J = zeros(Complex{Float64}, N+1, N+1)\n",
    "    f = zeros(Complex{Float64}, N+1)\n",
    "    dv = zeros(Complex{Float64}, N+1)\n",
    "    for i = 1:its\n",
    "        x += dv[1:N]\n",
    "        x = x / norm(x)\n",
    "        σ += dv[end]\n",
    "        J[1:N, 1:N] = A + σ*B + σ^2 * C\n",
    "        f[1:N] = J[1:N, 1:N] * x\n",
    "        #println(\"|f| = \", norm(f))\n",
    "        if norm(f) < tol\n",
    "            break\n",
    "        end\n",
    "        J[1:N, end] = B*x + 2*σ*(C*x)\n",
    "        J[end, 1:N] = x'\n",
    "        dv = -(J \\ f)\n",
    "    end\n",
    "    σ, x\n",
    "end"
   ]
  },
  {
   "cell_type": "code",
   "execution_count": null,
   "metadata": {
    "collapsed": false
   },
   "outputs": [],
   "source": [
    "# this is a test of the unstable circulating mode in Rotter/Burkhardt, Fig. 1\n",
    "N = 200\n",
    "L = 1.0\n",
    "h = L/N\n",
    "x = linspace(h, L, N)\n",
    "F = ones(N)\n",
    "M = zeros(N, N)\n",
    "laplacian!(J) = periodic!(J, h)\n",
    "laplacian!(M)\n",
    "Λ, X = eig(M)\n",
    "reverse!(Λ)\n",
    "X = X[:, reverse(1:N)]\n",
    "ωs = √abs(Λ);\n",
    "ieig = 20\n",
    "ω = ωs[ieig]\n",
    "E = X[:, ieig] + im * X[:, ieig+1]\n",
    "plot(x, real(E), x, imag(E))"
   ]
  },
  {
   "cell_type": "code",
   "execution_count": null,
   "metadata": {
    "collapsed": false
   },
   "outputs": [],
   "source": [
    "ωa = 61.0\n",
    "γ⟂ = 1.0\n",
    "ɛ = (1 + im*0.0002)^2 * ones(N)\n",
    "las = Laser(ɛ, F, ωa, γ⟂)\n",
    "pmd = PassiveMode(copy(E), ω)\n",
    "D = 0.001365\n",
    "passive_solve!(laplacian!, pmd, las, D, isprint=true)\n",
    "imag(pmd.ω)"
   ]
  },
  {
   "cell_type": "code",
   "execution_count": null,
   "metadata": {
    "collapsed": false
   },
   "outputs": [],
   "source": [
    "Dt = passive_threshold!(laplacian!, pmd, las, (D, D*1.05))\n",
    "ωt = real(pmd.ω)\n",
    "println(\"imag(ω) = \", imag(pmd.ω))\n",
    "plot(abs(pmd.E))\n",
    "ylim(0.9, 1.1)"
   ]
  },
  {
   "cell_type": "code",
   "execution_count": null,
   "metadata": {
    "collapsed": false
   },
   "outputs": [],
   "source": [
    "E₊ = copy(pmd.E)\n",
    "E₋ = conj(E₊)\n",
    "P(E) = Dt * γ⟂ / (ωt - ωa + 1im*γ⟂) * E\n",
    "vk(E) = [real(E); imag(E); real(P(E)); imag(P(E)); zeros(E)]\n",
    "V = cat((2,), vk(E₊), vk(E₋), vk(1im*E₊), vk(1im*E₋));"
   ]
  },
  {
   "cell_type": "code",
   "execution_count": null,
   "metadata": {
    "collapsed": false
   },
   "outputs": [],
   "source": [
    "γpar = 2e-3\n",
    "d = 0.01\n",
    "D = Dt*(1+d)\n",
    "csq = d\n",
    "md = Mode(copy(pmd.E), ωt, csq)\n",
    "solve!(laplacian!, md, las, D, isprint=true)\n",
    "\n",
    "Λlow, Xlow = smallest_stability_pairs(laplacian!, \n",
    "       sqrt(md.c²) * md.E, md.ω, D, γpar, las.ɛ);\n",
    "Λlow"
   ]
  },
  {
   "cell_type": "code",
   "execution_count": null,
   "metadata": {
    "collapsed": false
   },
   "outputs": [],
   "source": [
    "x0 = Xlow[:, 4]\n",
    "bk = zeros(Complex{Float64}, 4)\n",
    "for i in 1:4\n",
    "    bk[i] = dot(V[:, i], x0) / norm(V[:, i])^2\n",
    "end\n",
    "\n",
    "# confirm that x0 is indeed sum bk vk\n",
    "temp = 0im\n",
    "for i in 1:4\n",
    "    temp += bk[i] * V[:, i]\n",
    "end\n",
    "println(\"should be << 1: \", norm(temp - x0) / norm(x0))\n",
    "println(\"note that intensity pattern is uniform, so any shift \",\n",
    "\"of the circulating modes work as x0, so it doesn't necessarily \",\n",
    "\"have to be [0, 0, 1, 0] for the first eigenvector\")\n",
    "println(\"\\nif close to 1, then x0 is linear combination of vks only:\\n\", norm(bk))"
   ]
  },
  {
   "cell_type": "code",
   "execution_count": null,
   "metadata": {
    "collapsed": false
   },
   "outputs": [],
   "source": [
    "# must start from the top because the positive unstable\n",
    "# eigenvalue is not one of the four smallest at small d\n",
    "d_orig = 10.0\n",
    "d = d\n",
    "D = Dt*(1+d)\n",
    "csq = d\n",
    "md = Mode(copy(pmd.E), ωt, csq)\n",
    "solve!(laplacian!, md, las, D, isprint=true)\n",
    "# note in the uniform ring that there cannot be more than one\n",
    "# mode lasing, because the intensity of the first lasing mode\n",
    "# is uniform, and the *effective* pump strength D = D0 / (1+c^2|E|^2)\n",
    "# is always just Dt, so the passive poles of other modes are\n",
    "# always stuck at their Dt values\n",
    "\n",
    "plot(Dt * ones(md.E))\n",
    "plot(Dt * (1+d) ./ (1+md.c² * abs(md.E).^2))\n",
    "\n",
    "@time Λ, X = smallest_stability_pairs(laplacian!, \n",
    "       sqrt(md.c²) * md.E, md.ω, D, γpar, las.ɛ);\n",
    "println(\"there are unstable linearized MB eigenvalues:\")\n",
    "Λ"
   ]
  },
  {
   "cell_type": "code",
   "execution_count": null,
   "metadata": {
    "collapsed": false
   },
   "outputs": [],
   "source": [
    "x0 = X[:, 4]\n",
    "bk = zeros(Complex{Float64}, 4)\n",
    "for i in 1:4\n",
    "    bk[i] = dot(V[:, i], x0) / norm(V[:, i])^2\n",
    "end\n",
    "\n",
    "println(\"\\nif closer to 0 than to 1, then x0 \",\n",
    "\"is linear combination of *other* passive modes:\\n\", norm(bk))"
   ]
  },
  {
   "cell_type": "code",
   "execution_count": null,
   "metadata": {
    "collapsed": true
   },
   "outputs": [],
   "source": [
    "function test()\n",
    "    E₋ = conj(md.E)\n",
    "    mdm = Mode(E₋, md.ω, md.c²)\n",
    "    D = Dt*(1+d_orig)\n",
    "    solve!(laplacian!, mdm, las, D, isprint=true)\n",
    "end\n",
    "\n",
    "# E₋ instantly solves SALT too\n",
    "test()"
   ]
  },
  {
   "cell_type": "code",
   "execution_count": null,
   "metadata": {
    "collapsed": false
   },
   "outputs": [],
   "source": [
    "meig = 2\n",
    "λ = Λ[meig]\n",
    "x = X[:, meig]\n",
    "ds = [linspace(10, 1, 10); linspace(0.8, 0, 20)]\n",
    "λs = zeros(Complex{Float64}, length(ds))\n",
    "md2 = Mode(copy(md.E), md.ω, md.c²)\n",
    "C = C_matrix(las.ɛ)\n",
    "for (i, d) in enumerate(ds)\n",
    "    D = Dt*(1+d)\n",
    "    solve!(laplacian!, md2, las, D)\n",
    "    Esalt = sqrt(md.c²) * md.E\n",
    "    A = A_matrix(laplacian!, Esalt, md.ω, las, D, γpar)\n",
    "    B = B_matrix(las.ɛ, md.ω)\n",
    "    λ, x = quad_newton(A, B, C, λ, x)\n",
    "    λs[i] = λ\n",
    "end\n",
    "\n",
    "plot(ds, real(λs))"
   ]
  }
 ],
 "metadata": {
  "kernelspec": {
   "display_name": "Julia 0.4.5",
   "language": "julia",
   "name": "julia-0.4"
  },
  "language_info": {
   "file_extension": ".jl",
   "mimetype": "application/julia",
   "name": "julia",
   "version": "0.4.5"
  }
 },
 "nbformat": 4,
 "nbformat_minor": 0
}
