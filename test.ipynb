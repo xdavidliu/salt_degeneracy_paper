{
 "cells": [
  {
   "cell_type": "code",
   "execution_count": 2,
   "metadata": {
    "collapsed": false
   },
   "outputs": [
    {
     "data": {
      "text/plain": [
       "symmetrized (generic function with 1 method)"
      ]
     },
     "execution_count": 2,
     "metadata": {},
     "output_type": "execute_result"
    }
   ],
   "source": [
    "include(\"saltsolver.jl\")\n",
    "include(\"passive.jl\")\n",
    "myrand(n) = rand(n) - 0.5 + 1im * rand(n) - 0.5\n",
    "symmetrized(f) = 0.5 * (f + ring_flip(f))"
   ]
  },
  {
   "cell_type": "code",
   "execution_count": 1,
   "metadata": {
    "collapsed": false
   },
   "outputs": [
    {
     "data": {
      "text/plain": [
       "5-element Array{Complex{Float64},1}:\n",
       "  -0.21681+0.647494im \n",
       " -0.646647+0.5408im   \n",
       " -0.843822+0.0728975im\n",
       "  -0.56417+0.582443im \n",
       " -0.153147+0.191338im "
      ]
     },
     "execution_count": 1,
     "metadata": {},
     "output_type": "execute_result"
    }
   ],
   "source": [
    "ℓ = 5\n",
    "N = 4ℓ\n",
    "L = 1.0\n",
    "σ = 0.3\n",
    "scl = 0.01\n",
    "ɛr = 1 + scl*myrand(N)\n",
    "ɛi = σ + scl*myrand(N)\n",
    "F = 1 + scl*myrand(N)\n"
   ]
  },
  {
   "cell_type": "code",
   "execution_count": 6,
   "metadata": {
    "collapsed": false
   },
   "outputs": [
    {
     "name": "stdout",
     "output_type": "stream",
     "text": [
      "Cnv, uniform everything\n"
     ]
    },
    {
     "data": {
      "text/plain": [
       "(0.9332690479444662,9.3237349405047e-11)"
      ]
     },
     "execution_count": 6,
     "metadata": {},
     "output_type": "execute_result"
    }
   ],
   "source": [
    "println(\"Cnv, uniform everything\")\n",
    "\n",
    "N = 3\n",
    "nsym = N\n",
    "Lcav = 1.0\n",
    "ℓ = 1\n",
    "σ = 0.1\n",
    "γ⟂ = 0.2\n",
    "ωℓ = N * √(2*(1-cos(2π*ℓ/N)))\n",
    "ωa = 4.0\n",
    "D = 0.2\n",
    "ɛ = (1+im*σ) * ones(N)\n",
    "F = ones(N)\n",
    "las = Laser(ɛ, F, ωa, γ⟂)\n",
    "\n",
    "L = 1.0\n",
    "h = L/N\n",
    "Ering, ωring = ring_eigenpair(N, ℓ, h)\n",
    "md = PassiveMode(copy(Ering), ωring)\n",
    "laplacian!(J) = periodic!(J, h)\n",
    "Dt = passive_threshold!(laplacian!, md, las, (1.0, 1.2))\n",
    "ωt = real(md.ω)\n",
    "Eplus = md.E / md.E[1]\n",
    "Es = (Eplus, ring_flip(Eplus))\n",
    "\n",
    "H, Is, Js, Ks, GD = overlap_integrals(Es, ωt, Dt, las, nsym, ℓ, Lcav);\n",
    "I, J, K = Is[1], Js[1], Ks[1];\n",
    "i, j, k = I/H, J/H, K/H;\n",
    "\n",
    "Dt, imag(md.ω)"
   ]
  }
 ],
 "metadata": {
  "kernelspec": {
   "display_name": "Julia 0.4.5",
   "language": "julia",
   "name": "julia-0.4"
  },
  "language_info": {
   "file_extension": ".jl",
   "mimetype": "application/julia",
   "name": "julia",
   "version": "0.4.5"
  }
 },
 "nbformat": 4,
 "nbformat_minor": 0
}
