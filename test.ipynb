{
 "cells": [
  {
   "cell_type": "code",
   "execution_count": 2,
   "metadata": {
    "collapsed": false
   },
   "outputs": [
    {
     "data": {
      "text/plain": [
       "smallest_stability_eigs (generic function with 1 method)"
      ]
     },
     "execution_count": 2,
     "metadata": {},
     "output_type": "execute_result"
    }
   ],
   "source": [
    "include(\"saltsolver.jl\")"
   ]
  },
  {
   "cell_type": "code",
   "execution_count": 342,
   "metadata": {
    "collapsed": false
   },
   "outputs": [
    {
     "name": "stdout",
     "output_type": "stream",
     "text": [
      "H = 0.12001367861866971 + 0.9304143892839211im\n",
      "\n"
     ]
    },
    {
     "data": {
      "text/plain": [
       "(-0.701886958308032,0.0308933542881334 + 0.0im)"
      ]
     },
     "execution_count": 342,
     "metadata": {},
     "output_type": "execute_result"
    }
   ],
   "source": [
    "ℓ = 3\n",
    "npiece = 4\n",
    "Lcav = 1.0\n",
    "wantcnv = true\n",
    "\n",
    "nsym = 4ℓ\n",
    "N = nsym * npiece\n",
    "h = Lcav/N\n",
    "Ering, ωring = ring_eigenpair(N, ℓ, h)\n",
    "γ⟂ = 0.8\n",
    "ωa = round(ωring)\n",
    "\n",
    "ctrand(n) = rand(n)-0.5\n",
    "ɛrpiece = 1 + 0.3*ctrand(npiece)\n",
    "ɛipiece = 1.5 * rand(npiece) # want positive\n",
    "Fpiece = 1 + 0.4*ctrand(npiece)\n",
    "\n",
    "cnvize!(v) = (v[:] = (v + ring_flip(v))/2)\n",
    "if wantcnv\n",
    "    cnvize!(ɛrpiece)\n",
    "    cnvize!(ɛipiece)\n",
    "    cnvize!(Fpiece)\n",
    "end\n",
    "\n",
    "ɛ = cn_profile(ɛrpiece + im*ɛipiece, nsym)\n",
    "F = cn_profile(Fpiece, nsym)\n",
    "las = Laser(ɛ, F, ωa, γ⟂)\n",
    "laplacian!(J) = periodic!(J, h)\n",
    "\n",
    "md = Mode(copy(Ering), ωring, 0.0)\n",
    "Dguesses = (0.6, 0.8)\n",
    "Dt = threshold!(laplacian!, md, las, Dguesses)\n",
    "ωt = md.ω\n",
    "Es = (copy(md.E), ring_flip(md.E))\n",
    "\n",
    "H, Is, Js, Ks, GD = overlap_integrals(Es, ωt, Dt, las, nsym, ℓ, Lcav);\n",
    "I, J, K = Is[1], Js[1], Ks[1];\n",
    "i, j, k = I/H, J/H, K/H;\n",
    "\n",
    "println(\"H = \", H, '\\n')\n",
    "\n",
    "# for z² in (1, -1)\n",
    "# #     println(2imag(2i+j + z²*k))\n",
    "#     radicand = imag(j - z²*k)^2 + 8real(k)*real(j + z²*k)\n",
    "#     term = -imag(j + 3z²*k)\n",
    "#     println(\"term = \", term)\n",
    "#     println(\"√rad = \", √radicand)\n",
    "#     for sn in (1, -1)\n",
    "#         println(term + sn*√radicand)\n",
    "#     end\n",
    "#     z² == 1 && println()\n",
    "# end\n",
    "\n",
    "imag(j), √(0.0im+abs(k)^2-real(j)^2)"
   ]
  }
 ],
 "metadata": {
  "kernelspec": {
   "display_name": "Julia 0.4.5",
   "language": "julia",
   "name": "julia-0.4"
  },
  "language_info": {
   "file_extension": ".jl",
   "mimetype": "application/julia",
   "name": "julia",
   "version": "0.4.5"
  }
 },
 "nbformat": 4,
 "nbformat_minor": 0
}
