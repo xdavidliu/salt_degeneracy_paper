{
 "cells": [
  {
   "cell_type": "code",
   "execution_count": 1,
   "metadata": {
    "collapsed": false
   },
   "outputs": [
    {
     "data": {
      "text/plain": [
       "smallest_stability_eigs (generic function with 1 method)"
      ]
     },
     "execution_count": 1,
     "metadata": {},
     "output_type": "execute_result"
    }
   ],
   "source": [
    "include(\"saltsolver.jl\")"
   ]
  },
  {
   "cell_type": "code",
   "execution_count": 3,
   "metadata": {
    "collapsed": false
   },
   "outputs": [
    {
     "name": "stdout",
     "output_type": "stream",
     "text": [
      "C3v, uniform everything\n"
     ]
    },
    {
     "data": {
      "text/plain": [
       "(0.9332690479444662,9.3237349405047e-11)"
      ]
     },
     "execution_count": 3,
     "metadata": {},
     "output_type": "execute_result"
    }
   ],
   "source": [
    "println(\"C3v, uniform everything\")\n",
    "\n",
    "N = 3\n",
    "ℓ = 1\n",
    "σ = 0.1\n",
    "γ⟂ = 0.2\n",
    "ωa = 4.0\n",
    "D = 0.2\n",
    "ɛ = (1+im*σ) * ones(N)\n",
    "F = ones(N)\n",
    "las = Laser(ɛ, F, ωa, γ⟂)\n",
    "\n",
    "L = 1.0\n",
    "h = L/N\n",
    "Ering, ωring = ring_eigenpair(N, ℓ, h)\n",
    "md = PassiveMode(copy(Ering), ωring)\n",
    "laplacian!(J) = periodic!(J, h)\n",
    "Dt = passive_threshold!(laplacian!, md, las, (1.0, 1.2))\n",
    "Dt, imag(md.ω)"
   ]
  },
  {
   "cell_type": "code",
   "execution_count": 27,
   "metadata": {
    "collapsed": false
   },
   "outputs": [
    {
     "data": {
      "text/plain": [
       "1.6571632954764937e-10 - 9.767512843977424e-10im"
      ]
     },
     "execution_count": 27,
     "metadata": {},
     "output_type": "execute_result"
    }
   ],
   "source": [
    "α = (γ⟂/σ - ωa)/3\n",
    "β = α^3 - γ⟂*ωring^2/(2σ)\n",
    "v = (-β + √(β^2-α^6))^(1/3)\n",
    "ω = v + α^2/v - α\n",
    "ωring^2 - ω^2*(1 + σ/γ⟂*(md.ω-ωa))"
   ]
  },
  {
   "cell_type": "markdown",
   "metadata": {},
   "source": []
  },
  {
   "cell_type": "code",
   "execution_count": 2,
   "metadata": {
    "collapsed": false
   },
   "outputs": [
    {
     "data": {
      "text/plain": [
       "passive_solve! (generic function with 1 method)"
      ]
     },
     "execution_count": 2,
     "metadata": {},
     "output_type": "execute_result"
    }
   ],
   "source": [
    "PassiveMode(E::AbstractVector, ω::Real) = Mode(E, ω+0.0im, 0.0)\n",
    "\n",
    "function passive_threshold!{T<:Real}(laplacian!::Function, md::Mode, las::Laser, Ds::Tuple{T, T};\n",
    "                    init_incr=0.05, tol=1e-10, maxits=10, newtontol=1e-8, newton_maxits=9, isprint=false)\n",
    "    func(D) = begin\n",
    "        passive_solve!(laplacian!, md, las, D, tol=newtontol, maxits=newton_maxits)\n",
    "        imag(md.ω)\n",
    "    end\n",
    "    root(func, Ds, tol=tol, maxits=maxits, isprint=isprint)\n",
    "end    \n",
    "\n",
    "function passive_update!(md::Mode, dv::AbstractVector)\n",
    "    md.ω  += dv[end]\n",
    "    N = length(md.E)\n",
    "    for i=1:N\n",
    "        md.E[i] += dv[i]\n",
    "    end\n",
    "end\n",
    "\n",
    "function passive_derivative!(md::Mode, las::Laser, D::Real, J::AbstractMatrix)\n",
    "    N = length(md.E)\n",
    "    J[end, md.imax] = 1\n",
    "    \n",
    "    ∂f∂ω  = sub(J, 1:N, N+1)\n",
    "    γ = las.γ⟂ / (md.ω - las.ωa + im*las.γ⟂)\n",
    "    ω²D∂γ∂ω = md.ω^2*D*(-γ^2/las.γ⟂)\n",
    "    for i=1:N\n",
    "        # columns must be set using =\n",
    "        H = 1\n",
    "        ∂M∂ω = 2md.ω*(las.ɛ[i]+D*γ*las.F[i]*H) + ω²D∂γ∂ω*las.F[i]*H\n",
    "        ∂f∂ω[i]   = ∂M∂ω * md.E[i]\n",
    "    end\n",
    "end\n",
    "\n",
    "function passive_salt_operator!(md::Mode, las::Laser, D::Real, J::AbstractMatrix)\n",
    "    γ = las.γ⟂ / (md.ω - las.ωa + im*las.γ⟂)\n",
    "    N = length(md.E)    \n",
    "    for i=1:N\n",
    "        H = 1\n",
    "        # limitation: no hole-burning of other lasing mode\n",
    "        z = md.ω^2 * (las.ɛ[i] + D*γ*H*las.F[i])\n",
    "        J[i,i] +=  z\n",
    "    end    \n",
    "end\n",
    "\n",
    "function passive_residual!(laplacian!::Function, md::Mode, las::Laser, D::Real, J::AbstractMatrix, f::AbstractVector)\n",
    "    fill!(J, 0.0)\n",
    "    fill!(f, 0.0)    \n",
    "    N = length(md.E)\n",
    "    laplacian!(sub(J, 1:N, 1:N))\n",
    "    passive_salt_operator!(md, las, D, J)\n",
    "    \n",
    "    A_mul_B!(sub(f, 1:N), sub(J,1:N,1:N), md.E)\n",
    "    f[end]   = md.E[md.imax] - 1\n",
    "    norm(f)\n",
    "end\n",
    "\n",
    "function passive_solve!(laplacian!::Function, md::Mode, las::Laser, D::Real;\n",
    "                maxits=9, tol=1e-8, isprint=false)\n",
    "    N = length(md.E)\n",
    "    isa(md.ω, Complex) || error(\"incorrect type of mode\")\n",
    "    length(las.ɛ) == N || error(\"incorrect length(ɛ)\")\n",
    "    J = zeros(Complex{Float64}, N+1, N+1)\n",
    "    f = zeros(Complex{Float64}, N+1)\n",
    "    \n",
    "    for its=0:maxits\n",
    "        res = passive_residual!(laplacian!, md, las, D, J, f)\n",
    "        isprint && println(\"|f| = \", res)\n",
    "        res < tol && return (res, its)\n",
    "        its < maxits || throw(MaxIterationsReached())\n",
    "        passive_derivative!(md, las, D, J)\n",
    "        dv = scale!(J\\f, -1)\n",
    "        passive_update!(md, dv)\n",
    "    end\n",
    "end"
   ]
  },
  {
   "cell_type": "code",
   "execution_count": 1,
   "metadata": {
    "collapsed": false
   },
   "outputs": [
    {
     "ename": "LoadError",
     "evalue": "LoadError: UndefVarError: ring_eigenpair not defined\nwhile loading In[1], in expression starting on line 9",
     "output_type": "error",
     "traceback": [
      "LoadError: UndefVarError: ring_eigenpair not defined\nwhile loading In[1], in expression starting on line 9",
      ""
     ]
    }
   ],
   "source": [
    "ℓ = 3\n",
    "npiece = 4\n",
    "Lcav = 1.0\n",
    "wantcnv = true\n",
    "\n",
    "nsym = 4ℓ\n",
    "N = nsym * npiece\n",
    "h = Lcav/N\n",
    "Ering, ωring = ring_eigenpair(N, ℓ, h)\n",
    "γ⟂ = 0.8\n",
    "ωa = round(ωring)\n",
    "\n",
    "ctrand(n) = rand(n)-0.5\n",
    "ɛrpiece = 1 + 0.3*ctrand(npiece)\n",
    "ɛipiece = 1.5 * rand(npiece) # want positive\n",
    "Fpiece = 1 + 0.4*ctrand(npiece)\n",
    "\n",
    "cnvize!(v) = (v[:] = (v + ring_flip(v))/2)\n",
    "if wantcnv\n",
    "    cnvize!(ɛrpiece)\n",
    "    cnvize!(ɛipiece)\n",
    "    cnvize!(Fpiece)\n",
    "end\n",
    "\n",
    "ɛ = cn_profile(ɛrpiece + im*ɛipiece, nsym)\n",
    "F = cn_profile(Fpiece, nsym)\n",
    "las = Laser(ɛ, F, ωa, γ⟂)\n",
    "laplacian!(J) = periodic!(J, h)\n",
    "\n",
    "md = Mode(copy(Ering), ωring, 0.0)\n",
    "Dguesses = (0.6, 0.8)\n",
    "Dt = threshold!(laplacian!, md, las, Dguesses)\n",
    "ωt = md.ω\n",
    "Es = (copy(md.E), ring_flip(md.E))\n",
    "\n",
    "H, Is, Js, Ks, GD = overlap_integrals(Es, ωt, Dt, las, nsym, ℓ, Lcav);\n",
    "I, J, K = Is[1], Js[1], Ks[1];\n",
    "i, j, k = I/H, J/H, K/H;\n",
    "\n",
    "println(\"H = \", H, '\\n')\n",
    "\n",
    "# for z² in (1, -1)\n",
    "# #     println(2imag(2i+j + z²*k))\n",
    "#     radicand = imag(j - z²*k)^2 + 8real(k)*real(j + z²*k)\n",
    "#     term = -imag(j + 3z²*k)\n",
    "#     println(\"term = \", term)\n",
    "#     println(\"√rad = \", √radicand)\n",
    "#     for sn in (1, -1)\n",
    "#         println(term + sn*√radicand)\n",
    "#     end\n",
    "#     z² == 1 && println()\n",
    "# end"
   ]
  },
  {
   "cell_type": "code",
   "execution_count": 5,
   "metadata": {
    "collapsed": false
   },
   "outputs": [
    {
     "data": {
      "text/plain": [
       "true"
      ]
     },
     "execution_count": 5,
     "metadata": {},
     "output_type": "execute_result"
    }
   ],
   "source": [
    "isa(1, Integer)"
   ]
  }
 ],
 "metadata": {
  "kernelspec": {
   "display_name": "Julia 0.4.5",
   "language": "julia",
   "name": "julia-0.4"
  },
  "language_info": {
   "file_extension": ".jl",
   "mimetype": "application/julia",
   "name": "julia",
   "version": "0.4.5"
  }
 },
 "nbformat": 4,
 "nbformat_minor": 0
}
