{
 "cells": [
  {
   "cell_type": "code",
   "execution_count": 1,
   "metadata": {
    "collapsed": false
   },
   "outputs": [
    {
     "data": {
      "text/plain": [
       "smallest_stability_eigs (generic function with 1 method)"
      ]
     },
     "execution_count": 1,
     "metadata": {},
     "output_type": "execute_result"
    }
   ],
   "source": [
    "include(\"saltsolver.jl\")\n",
    "include(\"passive.jl\")"
   ]
  },
  {
   "cell_type": "code",
   "execution_count": 6,
   "metadata": {
    "collapsed": false
   },
   "outputs": [
    {
     "name": "stdout",
     "output_type": "stream",
     "text": [
      "Cnv, uniform everything\n"
     ]
    },
    {
     "data": {
      "text/plain": [
       "(0.9332690479444662,9.3237349405047e-11)"
      ]
     },
     "execution_count": 6,
     "metadata": {},
     "output_type": "execute_result"
    }
   ],
   "source": [
    "println(\"Cnv, uniform everything\")\n",
    "\n",
    "N = 3\n",
    "nsym = N\n",
    "Lcav = 1.0\n",
    "ℓ = 1\n",
    "σ = 0.1\n",
    "γ⟂ = 0.2\n",
    "ωℓ = N * √(2*(1-cos(2π*ℓ/N)))\n",
    "ωa = 4.0\n",
    "D = 0.2\n",
    "ɛ = (1+im*σ) * ones(N)\n",
    "F = ones(N)\n",
    "las = Laser(ɛ, F, ωa, γ⟂)\n",
    "\n",
    "L = 1.0\n",
    "h = L/N\n",
    "Ering, ωring = ring_eigenpair(N, ℓ, h)\n",
    "md = PassiveMode(copy(Ering), ωring)\n",
    "laplacian!(J) = periodic!(J, h)\n",
    "Dt = passive_threshold!(laplacian!, md, las, (1.0, 1.2))\n",
    "ωt = real(md.ω)\n",
    "Eplus = md.E / md.E[1]\n",
    "Es = (Eplus, ring_flip(Eplus))\n",
    "\n",
    "H, Is, Js, Ks, GD = overlap_integrals(Es, ωt, Dt, las, nsym, ℓ, Lcav);\n",
    "I, J, K = Is[1], Js[1], Ks[1];\n",
    "i, j, k = I/H, J/H, K/H;\n",
    "\n",
    "Dt, imag(md.ω)"
   ]
  },
  {
   "cell_type": "code",
   "execution_count": 14,
   "metadata": {
    "collapsed": false
   },
   "outputs": [
    {
     "data": {
      "text/plain": [
       "(-8.706695336924142e-9,-3.93424381961438e-9)"
      ]
     },
     "execution_count": 14,
     "metadata": {},
     "output_type": "execute_result"
    }
   ],
   "source": [
    "real(H) - (2ωℓ^2/ωt^3 - σ/γ⟂)*(ωt-ωa)/γ⟂,\n",
    "imag(H) - (2ωℓ^2/ωt^3 + σ/γ⟂)"
   ]
  },
  {
   "cell_type": "code",
   "execution_count": 5,
   "metadata": {
    "collapsed": false
   },
   "outputs": [
    {
     "data": {
      "text/plain": [
       "1.4210854715202004e-14"
      ]
     },
     "execution_count": 5,
     "metadata": {},
     "output_type": "execute_result"
    }
   ],
   "source": [
    "α = (γ⟂/σ - ωa)/3\n",
    "β = α^3 - γ⟂*ωring^2/(2σ)\n",
    "v = (-β + √(β^2-α^6))^(1/3)\n",
    "ω = v + α^2/v - α\n",
    "ωring^2 - ω^2*(1 + σ/γ⟂*(ω-ωa))"
   ]
  },
  {
   "cell_type": "code",
   "execution_count": 12,
   "metadata": {
    "collapsed": false
   },
   "outputs": [
    {
     "name": "stdout",
     "output_type": "stream",
     "text": [
      "H = 0.08661900749283337 + 1.1160234858646176im\n",
      "\n"
     ]
    }
   ],
   "source": [
    "ℓ = 3\n",
    "npiece = 4\n",
    "Lcav = 1.0\n",
    "wantcnv = true\n",
    "\n",
    "nsym = 4ℓ\n",
    "N = nsym * npiece\n",
    "h = Lcav/N\n",
    "Ering, ωring = ring_eigenpair(N, ℓ, h)\n",
    "γ⟂ = 0.8\n",
    "ωa = round(ωring)\n",
    "\n",
    "ctrand(n) = rand(n)-0.5\n",
    "ɛrpiece = 1 + 0.3*ctrand(npiece)\n",
    "ɛipiece = 1.5 * rand(npiece) # want positive\n",
    "Fpiece = 1 + 0.4*ctrand(npiece)\n",
    "\n",
    "cnvize!(v) = (v[:] = (v + ring_flip(v))/2)\n",
    "if wantcnv\n",
    "    cnvize!(ɛrpiece)\n",
    "    cnvize!(ɛipiece)\n",
    "    cnvize!(Fpiece)\n",
    "end\n",
    "\n",
    "ɛ = cn_profile(ɛrpiece + im*ɛipiece, nsym)\n",
    "F = cn_profile(Fpiece, nsym)\n",
    "las = Laser(ɛ, F, ωa, γ⟂)\n",
    "laplacian!(J) = periodic!(J, h)\n",
    "\n",
    "md = Mode(copy(Ering), ωring, 0.0)\n",
    "Dguesses = (0.6, 0.8)\n",
    "Dt = threshold!(laplacian!, md, las, Dguesses)\n",
    "ωt = md.ω\n",
    "Es = (copy(md.E), ring_flip(md.E))\n",
    "\n",
    "H, Is, Js, Ks, GD = overlap_integrals(Es, ωt, Dt, las, nsym, ℓ, Lcav);\n",
    "I, J, K = Is[1], Js[1], Ks[1];\n",
    "i, j, k = I/H, J/H, K/H;\n",
    "\n",
    "println(\"H = \", H, '\\n')\n",
    "\n",
    "# for z² in (1, -1)\n",
    "# #     println(2imag(2i+j + z²*k))\n",
    "#     radicand = imag(j - z²*k)^2 + 8real(k)*real(j + z²*k)\n",
    "#     term = -imag(j + 3z²*k)\n",
    "#     println(\"term = \", term)\n",
    "#     println(\"√rad = \", √radicand)\n",
    "#     for sn in (1, -1)\n",
    "#         println(term + sn*√radicand)\n",
    "#     end\n",
    "#     z² == 1 && println()\n",
    "# end"
   ]
  }
 ],
 "metadata": {
  "kernelspec": {
   "display_name": "Julia 0.4.5",
   "language": "julia",
   "name": "julia-0.4"
  },
  "language_info": {
   "file_extension": ".jl",
   "mimetype": "application/julia",
   "name": "julia",
   "version": "0.4.5"
  }
 },
 "nbformat": 4,
 "nbformat_minor": 0
}
