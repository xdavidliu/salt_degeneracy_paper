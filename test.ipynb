{
 "cells": [
  {
   "cell_type": "code",
   "execution_count": 1,
   "metadata": {
    "collapsed": false
   },
   "outputs": [
    {
     "data": {
      "text/plain": [
       "smallest_stability_eigs (generic function with 1 method)"
      ]
     },
     "execution_count": 1,
     "metadata": {},
     "output_type": "execute_result"
    }
   ],
   "source": [
    "include(\"saltsolver.jl\")"
   ]
  },
  {
   "cell_type": "code",
   "execution_count": 142,
   "metadata": {
    "collapsed": false
   },
   "outputs": [
    {
     "data": {
      "text/plain": [
       "laplacian! (generic function with 1 method)"
      ]
     },
     "execution_count": 142,
     "metadata": {},
     "output_type": "execute_result"
    }
   ],
   "source": [
    "ℓ = 3\n",
    "npiece = 4\n",
    "Lcav = 1.0\n",
    "wantcnv = true\n",
    "\n",
    "nsym = 4ℓ\n",
    "N = nsym * npiece\n",
    "h = Lcav/N\n",
    "Ering, ωring = ring_eigenpair(N, ℓ, h)\n",
    "γ⟂ = 0.8\n",
    "ωa = round(ωring)\n",
    "\n",
    "ctrand(n) = rand(n)-0.5\n",
    "ɛrpiece = 1 + 0.3*ctrand(npiece)\n",
    "ɛipiece = 0.4 * rand(npiece) # want positive\n",
    "Fpiece = 1 + 0.4*ctrand(npiece)\n",
    "\n",
    "cnvize!(v) = (v[:] = (v + ring_flip(v))/2)\n",
    "if wantcnv\n",
    "    cnvize!(ɛrpiece)\n",
    "    cnvize!(ɛipiece)\n",
    "    cnvize!(Fpiece)\n",
    "end\n",
    "\n",
    "ɛ = cn_profile(ɛrpiece + im*ɛipiece, nsym)\n",
    "F = cn_profile(Fpiece, nsym)\n",
    "las = Laser(ɛ, F, ωa, γ⟂)\n",
    "laplacian!(J) = periodic!(J, h)"
   ]
  },
  {
   "cell_type": "code",
   "execution_count": 144,
   "metadata": {
    "collapsed": false
   },
   "outputs": [
    {
     "data": {
      "text/plain": [
       "(-1.3886515194845832e-11,0.2293978531971066)"
      ]
     },
     "execution_count": 144,
     "metadata": {},
     "output_type": "execute_result"
    }
   ],
   "source": [
    "md = Mode(copy(Ering), ωring, 0.0)\n",
    "Dguesses = (0.18, 0.19)\n",
    "Dt = threshold!(laplacian!, md, las, Dguesses)\n",
    "ωt = md.ω\n",
    "Es = (copy(md.E), ring_flip(md.E))\n",
    "\n",
    "H, Is, Js, Ks, GD = overlap_integrals(Es, ωt, Dt, las, nsym, ℓ, Lcav);\n",
    "i, j, k = Is[1]/H, Js[1]/H, Ks[1]/H;\n",
    "\n",
    "md.c², Dt"
   ]
  },
  {
   "cell_type": "code",
   "execution_count": 127,
   "metadata": {
    "collapsed": false
   },
   "outputs": [
    {
     "data": {
      "text/plain": [
       "-0.0008608602111357407 - 0.0002536219075717801im"
      ]
     },
     "execution_count": 127,
     "metadata": {},
     "output_type": "execute_result"
    }
   ],
   "source": [
    "rad = imag(j-k)^2 - 8real(k)*real(j+k)\n",
    "k*H"
   ]
  },
  {
   "cell_type": "code",
   "execution_count": 165,
   "metadata": {
    "collapsed": false
   },
   "outputs": [
    {
     "data": {
      "text/plain": [
       "8"
      ]
     },
     "execution_count": 165,
     "metadata": {},
     "output_type": "execute_result"
    }
   ],
   "source": [
    "sizeof([1, 2, 3, 4] .< 3)"
   ]
  }
 ],
 "metadata": {
  "kernelspec": {
   "display_name": "Julia 0.4.5",
   "language": "julia",
   "name": "julia-0.4"
  },
  "language_info": {
   "file_extension": ".jl",
   "mimetype": "application/julia",
   "name": "julia",
   "version": "0.4.5"
  }
 },
 "nbformat": 4,
 "nbformat_minor": 0
}
